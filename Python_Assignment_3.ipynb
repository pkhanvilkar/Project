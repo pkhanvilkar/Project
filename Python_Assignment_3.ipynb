{
  "nbformat": 4,
  "nbformat_minor": 0,
  "metadata": {
    "colab": {
      "name": "Python_Assignment_3.ipynb",
      "private_outputs": true,
      "provenance": [],
      "collapsed_sections": []
    },
    "kernelspec": {
      "display_name": "Python 3",
      "language": "python",
      "name": "python3"
    },
    "language_info": {
      "codemirror_mode": {
        "name": "ipython",
        "version": 3
      },
      "file_extension": ".py",
      "mimetype": "text/x-python",
      "name": "python",
      "nbconvert_exporter": "python",
      "pygments_lexer": "ipython3",
      "version": "3.7.6"
    }
  },
  "cells": [
    {
      "cell_type": "code",
      "metadata": {
        "id": "3sE-TVRx4yoJ"
      },
      "source": [
        "#Importing pandas, numpy, matplotlib, seaborn and OS\n",
        "import pandas as pd\n",
        "import numpy as np\n",
        "import matplotlib.pyplot as plt\n",
        "import seaborn as sns\n",
        "import glob\n",
        "import os"
      ],
      "execution_count": null,
      "outputs": []
    },
    {
      "cell_type": "code",
      "metadata": {
        "id": "BHQeHdor6MYj"
      },
      "source": [
        "#Checking panda version\n",
        "print(np.__version__)\n",
        "print(pd.__version__)\n",
        "print(sns.__version__)"
      ],
      "execution_count": null,
      "outputs": []
    },
    {
      "cell_type": "markdown",
      "metadata": {
        "id": "5bibDnwT6S24"
      },
      "source": [
        "**1. Read the file studentlist.csv.**"
      ]
    },
    {
      "cell_type": "code",
      "metadata": {
        "id": "qKzbcIvp4yod"
      },
      "source": [
        "st_ds = pd.read_csv('C:\\python\\Student_List.csv')\n",
        "print(st_ds.shape)\n",
        "st_ds.head()"
      ],
      "execution_count": null,
      "outputs": []
    },
    {
      "cell_type": "markdown",
      "metadata": {
        "id": "mkXw6-PC6j2O"
      },
      "source": [
        "**2. Read the files present in the folders batchwiselist.**"
      ]
    },
    {
      "cell_type": "code",
      "metadata": {
        "id": "8GDH0Lv44yoy"
      },
      "source": [
        "path = r'C:\\python\\batchwiselist'\n",
        "all_files = glob.glob(path +\"/*.csv\")\n",
        "lst = []\n",
        "for i in all_files:\n",
        "    df = pd.read_csv(i)\n",
        "    lst.append(df)\n",
        "    \n",
        "tot_lst = pd.concat(lst)\n",
        "print(tot_lst.shape)"
      ],
      "execution_count": null,
      "outputs": []
    },
    {
      "cell_type": "markdown",
      "metadata": {
        "id": "hCf9TYuX6pvB"
      },
      "source": [
        "**3. Read the files present in the folders quiz.**"
      ]
    },
    {
      "cell_type": "code",
      "metadata": {
        "id": "1z-Gn0Ip4yo_"
      },
      "source": [
        "path = r'C:\\python\\quiz'\n",
        "all_files = glob.glob(path +\"/*.csv\")\n",
        "\n",
        "quiz = []\n",
        "\n",
        "for i in all_files:\n",
        "    df = pd.read_csv(i)\n",
        "    quiz.append(df)\n",
        "\n",
        "quiz1 = quiz[0]\n",
        "quiz2 = quiz[1]\n",
        "\n",
        "bth_quiz = pd.concat(quiz)\n",
        "bth_quiz.head(3)\n",
        "quiz1 = quiz1.drop(columns=['ID number','Institution',\"Department\",'Email address'])\n",
        "quiz2 = quiz2.drop(columns=['ID number','Institution',\"Department\",'Email address'])"
      ],
      "execution_count": null,
      "outputs": []
    },
    {
      "cell_type": "code",
      "metadata": {
        "id": "eZQFTN8Y4ypJ"
      },
      "source": [
        "print(quiz1.shape)\n",
        "quiz1.head()"
      ],
      "execution_count": null,
      "outputs": []
    },
    {
      "cell_type": "markdown",
      "metadata": {
        "id": "XL4OeUnx7ATA"
      },
      "source": [
        "**4. Statistics dataframe for each batch should include the column names with the respective statistics value. The column names infer the meaning of each column.**"
      ]
    },
    {
      "cell_type": "code",
      "metadata": {
        "id": "jHoHgyus4ypU"
      },
      "source": [
        "stat_df= pd.DataFrame (columns = [\"no of present\", \"lessthan50\", \"between50and60\", \n",
        "                                  \"between60and70\", \"between70and80\", \"greaterthan80\"],index=[\"Quiz_1\",\"Quiz_2\"])\n",
        "\n",
        "stat_df"
      ],
      "execution_count": null,
      "outputs": []
    },
    {
      "cell_type": "markdown",
      "metadata": {
        "id": "7iGP9xOh7gf8"
      },
      "source": [
        "**5. Manipulate the data and create a Statistics dataframe in such a way that it allocates marks to the students of each batch for the quizzes.**"
      ]
    },
    {
      "cell_type": "code",
      "metadata": {
        "id": "htG_fTV24ypg"
      },
      "source": [
        "quiz1[\"Firstname\"] = quiz1[\"Firstname\"].dropna()\n",
        "quiz2[\"Firstname\"] = quiz2[\"Firstname\"].dropna()"
      ],
      "execution_count": null,
      "outputs": []
    },
    {
      "cell_type": "code",
      "metadata": {
        "id": "NRaxten74ypr"
      },
      "source": [
        "quiz1[\"Grade/10.00\"] = quiz1[\"Grade/10.00\"].str.replace(\"-\",\"0\")\n",
        "quiz2[\"Grade/10.00\"] = quiz2[\"Grade/10.00\"].str.replace(\"-\",\"0\")\n",
        "quiz1[\"Grade/10.00\"] = quiz1[\"Grade/10.00\"].apply(pd.to_numeric)\n",
        "quiz2[\"Grade/10.00\"] = quiz2[\"Grade/10.00\"].apply(pd.to_numeric)"
      ],
      "execution_count": null,
      "outputs": []
    },
    {
      "cell_type": "code",
      "metadata": {
        "id": "nx91ndXJ4ypz"
      },
      "source": [
        "print(quiz1[quiz1[\"Grade/10.00\"]<5][\"Firstname\"].count())\n",
        "print(quiz2[quiz2[\"Grade/10.00\"]<5][\"Firstname\"].count())"
      ],
      "execution_count": null,
      "outputs": []
    },
    {
      "cell_type": "code",
      "metadata": {
        "id": "kV63ixJY4yp-"
      },
      "source": [
        "quiz1.count()"
      ],
      "execution_count": null,
      "outputs": []
    },
    {
      "cell_type": "code",
      "metadata": {
        "id": "UT2s4oqr4yqH"
      },
      "source": [
        "stat_df[\"no of present\"]= [quiz1[\"Firstname\"].count(),quiz2[\"Firstname\"].count()]\n",
        "stat_df[\"lessthan50\"] = [quiz1[quiz1[\"Grade/10.00\"].between(0,4.9,inclusive=True)][\"Firstname\"].count(),\n",
        "                         quiz2[quiz2[\"Grade/10.00\"].between(0,4.9)][\"Firstname\"].count()]\n",
        "stat_df[\"between50and60\"] = [quiz1[quiz1[\"Grade/10.00\"].between(5,5.9,inclusive=True)][\"Firstname\"].count(),\n",
        "                             quiz2[quiz2[\"Grade/10.00\"].between(5,5.9,inclusive=True)][\"Firstname\"].count()]\n",
        "stat_df[\"between60and70\"] = [quiz1[quiz1[\"Grade/10.00\"].between(6,6.9,inclusive=True)][\"Firstname\"].count(),\n",
        "                             quiz2[quiz2[\"Grade/10.00\"].between(6,6.9,inclusive=True)][\"Firstname\"].count()]\n",
        "stat_df[\"between70and80\"] = [quiz1[quiz1[\"Grade/10.00\"].between(7,7.9,inclusive=True)][\"Firstname\"].count(),\n",
        "                             quiz2[quiz2[\"Grade/10.00\"].between(7,7.9,inclusive=True)][\"Firstname\"].count()]\n",
        "stat_df[\"greaterthan80\"] = [quiz1[quiz1[\"Grade/10.00\"].between(8,10,inclusive=True)][\"Firstname\"].count(),\n",
        "                            quiz2[quiz2[\"Grade/10.00\"].between(8,10,inclusive=True)][\"Firstname\"].count()]\n",
        "\n",
        "\n",
        "stat_df"
      ],
      "execution_count": null,
      "outputs": []
    },
    {
      "cell_type": "code",
      "metadata": {
        "id": "H31w9BCl4yqR"
      },
      "source": [
        "path = r'C:\\python\\batchwiselist'\n",
        "all_files = glob.glob(path +\"/*.csv\")\n",
        "all_files[0]\n",
        "file = []\n",
        "\n",
        "for i in all_files:\n",
        "    df = pd.read_csv(i)\n",
        "    file.append(df)"
      ],
      "execution_count": null,
      "outputs": []
    },
    {
      "cell_type": "code",
      "metadata": {
        "id": "uD1Qnt_f4yqa"
      },
      "source": [
        "quiz_1 = pd.merge(quiz1,st_ds,left_on='Firstname',right_on='studentname',how='right')\n",
        "quiz_2 = pd.merge(quiz2,st_ds,left_on='Firstname',right_on='studentname',how='right')\n",
        "print(quiz_1.shape)\n",
        "quiz_1[\"Grade/10.00\"] = quiz_1[\"Grade/10.00\"].fillna(0)\n",
        "quiz_2[\"Grade/10.00\"] = quiz_2[\"Grade/10.00\"].fillna(0)"
      ],
      "execution_count": null,
      "outputs": []
    },
    {
      "cell_type": "code",
      "metadata": {
        "id": "vZFrekGg4yqk"
      },
      "source": [
        "n = 18\n",
        "#quiz-1\n",
        "b_q1 = []\n",
        "for i in range(n+1):\n",
        "    qz = pd.merge(file[i],quiz_1,left_on='studentName',right_on='studentname',how='left')\n",
        "    b_q1.append(qz)\n",
        "\n",
        "print(b_q1[0].shape)\n",
        "b_q1[0].head(3)\n",
        "\n",
        "#quiz-2\n",
        "b_q2 = []\n",
        "for i in range(n+1):\n",
        "    qz = pd.merge(file[i],quiz_2,left_on='studentName',right_on='studentname',how='left')\n",
        "    b_q2.append(qz)\n",
        "\n",
        "print(b_q2[0].shape)\n",
        "b_q1[0].head(3)"
      ],
      "execution_count": null,
      "outputs": []
    },
    {
      "cell_type": "code",
      "metadata": {
        "id": "gRl4pGNs4yqs"
      },
      "source": [
        "result1= pd.DataFrame (columns = [\"no of present\", \"lessthan50\", \"between50and60\", \n",
        "                                  \"between60and70\", \"between70and80\", \"greaterthan80\"],index=[\"Quiz_1\",\"Quiz_2\"])\n",
        "result1"
      ],
      "execution_count": null,
      "outputs": []
    },
    {
      "cell_type": "code",
      "metadata": {
        "id": "Kh7j5y7C4yq3"
      },
      "source": [
        "result1[\"no of present\"]= [b_q1[0][\"studentName\"].count(),b_q2[0][\"studentName\"].count()]\n",
        "result1[\"lessthan50\"] = [b_q1[0][b_q1[0][\"Grade/10.00\"].between(0,4.9,inclusive=True)][\"studentName\"].count(),\n",
        "                         b_q2[0][b_q2[0][\"Grade/10.00\"].between(0,4.9)][\"studentName\"].count()]\n",
        "result1[\"between50and60\"] = [b_q1[0][b_q1[0][\"Grade/10.00\"].between(5,5.9,inclusive=True)][\"studentName\"].count(),\n",
        "                             b_q2[0][b_q2[0][\"Grade/10.00\"].between(5,5.9,inclusive=True)][\"studentName\"].count()]\n",
        "result1[\"between60and70\"] = [b_q1[0][b_q1[0][\"Grade/10.00\"].between(6,6.9,inclusive=True)][\"studentName\"].count(),\n",
        "                             b_q2[0][b_q2[0][\"Grade/10.00\"].between(6,6.9,inclusive=True)][\"studentName\"].count()]\n",
        "result1[\"between70and80\"] = [b_q1[0][b_q1[0][\"Grade/10.00\"].between(7,7.9,inclusive=True)][\"studentName\"].count(),\n",
        "                             b_q2[0][b_q2[0][\"Grade/10.00\"].between(7,7.9,inclusive=True)][\"studentName\"].count()]\n",
        "result1[\"greaterthan80\"] = [b_q1[0][b_q1[0][\"Grade/10.00\"].between(8,10,inclusive=True)][\"studentName\"].count(),\n",
        "                            b_q2[0][b_q2[0][\"Grade/10.00\"].between(8,10,inclusive=True)][\"studentName\"].count()]\n",
        "\n",
        "result1"
      ],
      "execution_count": null,
      "outputs": []
    },
    {
      "cell_type": "code",
      "metadata": {
        "id": "pKcm2NRU4yq-"
      },
      "source": [
        "rst = []\n",
        "\n",
        "for i in range(n+1):\n",
        "    result= pd.DataFrame (columns = [\"no of present\", \"lessthan50\", \"between50and60\", \n",
        "                                  \"between60and70\", \"between70and80\", \"greaterthan80\"],index=[\"Quiz_1\",\"Quiz_2\"])\n",
        "    result[\"no of present\"]= [b_q1[i][\"studentname\"].count(),b_q2[i][\"studentName\"].count()]\n",
        "    result[\"lessthan50\"] = [b_q1[i][b_q1[i][\"Grade/10.00\"].between(0,4.9,inclusive=True)][\"studentName\"].count(),b_q2[i][b_q2[i][\"Grade/10.00\"].between(0,4.9)][\"studentName\"].count()]\n",
        "    result[\"between50and60\"] = [b_q1[i][b_q1[i][\"Grade/10.00\"].between(5,5.9,inclusive=True)][\"studentName\"].count(),b_q2[i][b_q2[i][\"Grade/10.00\"].between(5,5.9,inclusive=True)][\"studentName\"].count()]\n",
        "    result[\"between60and70\"] = [b_q1[i][b_q1[i][\"Grade/10.00\"].between(6,6.9,inclusive=True)][\"studentName\"].count(),b_q2[i][b_q2[i][\"Grade/10.00\"].between(6,6.9,inclusive=True)][\"studentName\"].count()]\n",
        "    result[\"between70and80\"] = [b_q1[i][b_q1[i][\"Grade/10.00\"].between(7,7.9,inclusive=True)][\"studentName\"].count(),b_q2[i][b_q2[i][\"Grade/10.00\"].between(7,7.9,inclusive=True)][\"studentName\"].count()]\n",
        "    result[\"greaterthan80\"] = [b_q1[i][b_q1[i][\"Grade/10.00\"].between(8,10,inclusive=True)][\"studentName\"].count(),b_q2[i][b_q2[i][\"Grade/10.00\"].between(8,10,inclusive=True)][\"studentName\"].count()]\n",
        "    rst.append(result)\n",
        "    \n",
        "rst[0]"
      ],
      "execution_count": null,
      "outputs": []
    },
    {
      "cell_type": "markdown",
      "metadata": {
        "id": "ByPZM6nd7xOQ"
      },
      "source": [
        "**6. Read a file named testcaseStudent.txt.**"
      ]
    },
    {
      "cell_type": "code",
      "metadata": {
        "id": "U8ZBeoc_4yrG"
      },
      "source": [
        "txt = pd.read_csv(\"C:\\\\python\\\\testcaseStudent.txt\",header=None,names=[\"inputs\"])\n",
        "txt"
      ],
      "execution_count": null,
      "outputs": []
    },
    {
      "cell_type": "code",
      "metadata": {
        "id": "phxEb_iK4yrL"
      },
      "source": [
        "tst_cs = int(txt.iloc[0,0])\n",
        "ind = []\n",
        "for i in range(tst_cs*2+1):\n",
        "    ind.append(i)\n",
        "    \n",
        "ind"
      ],
      "execution_count": null,
      "outputs": []
    },
    {
      "cell_type": "code",
      "metadata": {
        "id": "_OROYWZ_4yrS"
      },
      "source": [
        "file_name = ind[1::2]\n",
        "column = ind[2::2]\n",
        "print(file_name)\n",
        "print(column)"
      ],
      "execution_count": null,
      "outputs": []
    },
    {
      "cell_type": "code",
      "metadata": {
        "id": "xGVxrGlQ4yrY"
      },
      "source": [
        "v = []\n",
        "for i in file_name:\n",
        "    x = txt.iloc[i,0]\n",
        "    y = int(x[0])\n",
        "    v.append(y)\n",
        "a = [i - 1 for i in v]\n",
        "\n",
        "c = []\n",
        "for i in column:\n",
        "    x = txt.iloc[i,0]\n",
        "    c.append(x)\n",
        "\n",
        "print(v)\n",
        "print(c)\n",
        "v"
      ],
      "execution_count": null,
      "outputs": []
    },
    {
      "cell_type": "code",
      "metadata": {
        "id": "9UVonYck4yrj"
      },
      "source": [
        "for (x,y) in zip(a,c):\n",
        "    print(rst[x][y])\n",
        "    print([x])"
      ],
      "execution_count": null,
      "outputs": []
    },
    {
      "cell_type": "markdown",
      "metadata": {
        "id": "h_ivjFvi8Ihw"
      },
      "source": [
        "**7. create an output file outputn.txt for inputs from the testcaseStudent.txt input file.**"
      ]
    },
    {
      "cell_type": "code",
      "metadata": {
        "id": "2AkPDSJY4yrs"
      },
      "source": [
        "for (x,y,z) in zip(a,c,v):\n",
        "    out = \"Output{}.txt\".format(z)\n",
        "    f = open(out, \"a\")\n",
        "    print(rst[x][y], file=f)"
      ],
      "execution_count": null,
      "outputs": []
    }
  ]
}